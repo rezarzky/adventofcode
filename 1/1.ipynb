{
 "cells": [
  {
   "cell_type": "code",
   "execution_count": 1,
   "metadata": {
    "ExecuteTime": {
     "end_time": "2020-12-01T06:57:49.182377Z",
     "start_time": "2020-12-01T06:57:48.776412Z"
    }
   },
   "outputs": [],
   "source": [
    "from itertools import combinations \n",
    "import pandas as pd"
   ]
  },
  {
   "cell_type": "code",
   "execution_count": 2,
   "metadata": {
    "ExecuteTime": {
     "end_time": "2020-12-01T06:57:49.190365Z",
     "start_time": "2020-12-01T06:57:49.183364Z"
    }
   },
   "outputs": [],
   "source": [
    "puzzle = pd.read_csv(\"input.txt\", header=None)[0]"
   ]
  },
  {
   "cell_type": "code",
   "execution_count": 3,
   "metadata": {
    "ExecuteTime": {
     "end_time": "2020-12-01T06:57:49.207365Z",
     "start_time": "2020-12-01T06:57:49.191363Z"
    }
   },
   "outputs": [
    {
     "name": "stdout",
     "output_type": "stream",
     "text": [
      "(911, 1109)\n",
      "1010299\n"
     ]
    }
   ],
   "source": [
    "comb = combinations(puzzle, 2)\n",
    "\n",
    "for i in list(comb):\n",
    "    if sum(i) == 2020:\n",
    "        print(i)\n",
    "        print(i[0]*i[1])"
   ]
  },
  {
   "cell_type": "code",
   "execution_count": 4,
   "metadata": {
    "ExecuteTime": {
     "end_time": "2020-12-01T06:57:49.620386Z",
     "start_time": "2020-12-01T06:57:49.209374Z"
    }
   },
   "outputs": [
    {
     "name": "stdout",
     "output_type": "stream",
     "text": [
      "(1488, 60, 472)\n",
      "42140160\n"
     ]
    }
   ],
   "source": [
    "comb = combinations(puzzle, 3)\n",
    "\n",
    "for i in list(comb):\n",
    "    if sum(i) == 2020:\n",
    "        print(i)\n",
    "        print(i[0]*i[1]*i[2])"
   ]
  },
  {
   "cell_type": "code",
   "execution_count": null,
   "metadata": {},
   "outputs": [],
   "source": []
  }
 ],
 "metadata": {
  "kernelspec": {
   "display_name": "Python 3",
   "language": "python",
   "name": "python3"
  },
  "language_info": {
   "codemirror_mode": {
    "name": "ipython",
    "version": 3
   },
   "file_extension": ".py",
   "mimetype": "text/x-python",
   "name": "python",
   "nbconvert_exporter": "python",
   "pygments_lexer": "ipython3",
   "version": "3.7.1"
  }
 },
 "nbformat": 4,
 "nbformat_minor": 4
}
