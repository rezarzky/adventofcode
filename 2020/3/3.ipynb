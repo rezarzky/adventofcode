{
 "cells": [
  {
   "cell_type": "markdown",
   "metadata": {
    "ExecuteTime": {
     "end_time": "2020-12-03T07:14:38.329684Z",
     "start_time": "2020-12-03T07:14:38.324687Z"
    }
   },
   "source": [
    "## Day 3: Toboggan Trajectory"
   ]
  },
  {
   "cell_type": "code",
   "execution_count": 1,
   "metadata": {
    "ExecuteTime": {
     "end_time": "2020-12-03T11:25:02.854338Z",
     "start_time": "2020-12-03T11:25:02.850352Z"
    }
   },
   "outputs": [],
   "source": [
    "#import\n",
    "file = open('input.txt', 'r') \n",
    "lines = [line.strip() for line in file]"
   ]
  },
  {
   "cell_type": "markdown",
   "metadata": {},
   "source": [
    "### Part 1"
   ]
  },
  {
   "cell_type": "code",
   "execution_count": 2,
   "metadata": {
    "ExecuteTime": {
     "end_time": "2020-12-03T11:25:02.863363Z",
     "start_time": "2020-12-03T11:25:02.856364Z"
    }
   },
   "outputs": [],
   "source": [
    "def count_tree(lines, right, down):\n",
    "    col = 0\n",
    "    results = 0\n",
    "    for index, line in enumerate(lines):\n",
    "        if index % down == 0:\n",
    "            if line[col % 31 ] == \"#\":\n",
    "                results += 1\n",
    "            col += right\n",
    "    return results"
   ]
  },
  {
   "cell_type": "code",
   "execution_count": 3,
   "metadata": {
    "ExecuteTime": {
     "end_time": "2020-12-03T11:25:02.877338Z",
     "start_time": "2020-12-03T11:25:02.865365Z"
    }
   },
   "outputs": [
    {
     "data": {
      "text/plain": [
       "284"
      ]
     },
     "execution_count": 3,
     "metadata": {},
     "output_type": "execute_result"
    }
   ],
   "source": [
    "count_tree(lines, 3, 1)"
   ]
  },
  {
   "cell_type": "markdown",
   "metadata": {
    "ExecuteTime": {
     "end_time": "2020-12-03T11:19:27.580792Z",
     "start_time": "2020-12-03T11:19:27.575806Z"
    }
   },
   "source": [
    "## Part 2"
   ]
  },
  {
   "cell_type": "code",
   "execution_count": 4,
   "metadata": {
    "ExecuteTime": {
     "end_time": "2020-12-03T11:25:02.886362Z",
     "start_time": "2020-12-03T11:25:02.878335Z"
    }
   },
   "outputs": [
    {
     "data": {
      "text/plain": [
       "3510149120"
      ]
     },
     "execution_count": 4,
     "metadata": {},
     "output_type": "execute_result"
    }
   ],
   "source": [
    "slopes = [(1, 1), (3, 1), (5, 1), (7, 1), (1, 2)]\n",
    "\n",
    "result = 1\n",
    "for (right, down) in slopes:\n",
    "    result *= count_tree(lines, right, down)\n",
    "result"
   ]
  },
  {
   "cell_type": "code",
   "execution_count": null,
   "metadata": {},
   "outputs": [],
   "source": []
  }
 ],
 "metadata": {
  "kernelspec": {
   "display_name": "Python 3",
   "language": "python",
   "name": "python3"
  },
  "language_info": {
   "codemirror_mode": {
    "name": "ipython",
    "version": 3
   },
   "file_extension": ".py",
   "mimetype": "text/x-python",
   "name": "python",
   "nbconvert_exporter": "python",
   "pygments_lexer": "ipython3",
   "version": "3.7.1"
  }
 },
 "nbformat": 4,
 "nbformat_minor": 4
}
